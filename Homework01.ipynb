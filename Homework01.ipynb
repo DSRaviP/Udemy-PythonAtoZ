{
 "cells": [
  {
   "cell_type": "code",
   "execution_count": 1,
   "metadata": {
    "collapsed": true
   },
   "outputs": [],
   "source": [
    "#Homework\n",
    "#Test the law of Large Numbers for N random normally distributed numbers with\n",
    "# mean = 0, stdev = 1;\n",
    "\n",
    "#Create a Python script that will count how many of these numbers fall between\n",
    "# -1 and 1 and divide the total quantity by N\n",
    "\n",
    "# You know that E(X) = 68.2%\n",
    "# Check that Mean(X) -> E(X) as you rerun your script with increasing N"
   ]
  },
  {
   "cell_type": "code",
   "execution_count": 2,
   "metadata": {
    "collapsed": true
   },
   "outputs": [],
   "source": [
    "import numpy as np\n",
    "from numpy.random import randn"
   ]
  },
  {
   "cell_type": "code",
   "execution_count": 29,
   "metadata": {
    "collapsed": false
   },
   "outputs": [
    {
     "name": "stdout",
     "output_type": "stream",
     "text": [
      "0.6828428\n"
     ]
    }
   ],
   "source": [
    "n = 0\n",
    "N = 10000000  # start with 10, keep increasing by a magnitude of 10.\n",
    "cnt = 0\n",
    "while n < N:\n",
    "    rnd = randn()\n",
    "    if rnd >= -1 and rnd <=1:\n",
    "        cnt = cnt + 1\n",
    "    n = n + 1    \n",
    "#take the count and divide by N \n",
    "print(cnt/N)\n",
    "    "
   ]
  }
 ],
 "metadata": {
  "kernelspec": {
   "display_name": "Python 3",
   "language": "python",
   "name": "python3"
  },
  "language_info": {
   "codemirror_mode": {
    "name": "ipython",
    "version": 3
   },
   "file_extension": ".py",
   "mimetype": "text/x-python",
   "name": "python",
   "nbconvert_exporter": "python",
   "pygments_lexer": "ipython3",
   "version": "3.5.1"
  }
 },
 "nbformat": 4,
 "nbformat_minor": 0
}
